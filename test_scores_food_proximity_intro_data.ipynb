{
 "cells": [
  {
   "cell_type": "markdown",
   "metadata": {},
   "source": [
    "<h1>Test Scores and Food Proximity</h1>\n",
    "<h3>Daniel Ochoa</h3>\n"
   ]
  },
  {
   "cell_type": "markdown",
   "metadata": {},
   "source": [
    "<h3>Intrudction</h3>\n",
    "\n",
    "Alameda County in California has many diverse communities with a number of variables that can effect eduction outcomes. In this analysis we will look at the effect proximity in food sources such as grocery stores and restaurants have on test scores in math. We will answer the question: Does food proximity in a community effect math test scores in schools? We will find patterns from the results and make suggestions on where to place new grocery stores in low performing communities. \n",
    "\n",
    "\n"
   ]
  },
  {
   "cell_type": "markdown",
   "metadata": {},
   "source": [
    "<h3>Data</h3>\n",
    "\n",
    "\n",
    "<ol>\n",
    "<li>\n",
    "    <b>Foursquare</b> api to aggregate location data for grocery stores and restaurants in areas close to schools.\n",
    "</li>\n",
    "    <li><b>Test Score</b> data provided by the <a href=\"https://www.cde.ca.gov/ta/ac/cm/datafiles2019.asp\"> California Department of Education</a>. \n",
    "</li>\n",
    "\n",
    "</ol>\n",
    "\n",
    "\n",
    "\n"
   ]
  },
  {
   "cell_type": "markdown",
   "metadata": {},
   "source": []
  }
 ],
 "metadata": {
  "kernelspec": {
   "display_name": "Python 3",
   "language": "python",
   "name": "python3"
  },
  "language_info": {
   "codemirror_mode": {
    "name": "ipython",
    "version": 3
   },
   "file_extension": ".py",
   "mimetype": "text/x-python",
   "name": "python",
   "nbconvert_exporter": "python",
   "pygments_lexer": "ipython3",
   "version": "3.6.5"
  }
 },
 "nbformat": 4,
 "nbformat_minor": 2
}
